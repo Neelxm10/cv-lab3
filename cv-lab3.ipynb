{
 "cells": [
  {
   "cell_type": "markdown",
   "metadata": {},
   "source": [
    "First, we start off with importing any necessary libraries. "
   ]
  },
  {
   "cell_type": "code",
   "execution_count": null,
   "metadata": {},
   "outputs": [],
   "source": [
    "\n",
    "import cv2 as cv\n",
    "import numpy as np\n",
    "from matplotlib import pyplot as plt\n",
    "from mpl_toolkits.mplot3d import Axes3D\n",
    "import random"
   ]
  },
  {
   "cell_type": "code",
   "execution_count": null,
   "metadata": {},
   "outputs": [],
   "source": [
    "##  BIG MICH\n",
    "\n",
    "#Read in image\n",
    "\n",
    "#convert RGB to HSV\n",
    "\n",
    "#Use subplots from matplotlib to show HSV and original photo\n",
    "\n",
    "\n",
    "#Seperate channels Hue (H), Saturation (S), Value (V)\n",
    "##\n",
    "\n",
    "#Apply masking on the most appropriate image channel (H,S, or V)"
   ]
  },
  {
   "cell_type": "code",
   "execution_count": null,
   "metadata": {},
   "outputs": [],
   "source": [
    "#Apply masking on the most appropriate image channel (H,S, or V)\n",
    "Channel = np.ones(np.array(0,imgChannelSize))"
   ]
  },
  {
   "cell_type": "markdown",
   "metadata": {},
   "source": []
  }
 ],
 "metadata": {
  "kernelspec": {
   "display_name": "Python 3 (ipykernel)",
   "language": "python",
   "name": "python3"
  },
  "language_info": {
   "name": "python",
   "version": "3.8.10"
  }
 },
 "nbformat": 4,
 "nbformat_minor": 2
}
