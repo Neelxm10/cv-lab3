{
 "cells": [
  {
   "cell_type": "markdown",
   "metadata": {},
   "source": [
    "First, we start off with importing any necessary libraries. "
   ]
  },
  {
   "cell_type": "code",
   "execution_count": 19,
   "metadata": {},
   "outputs": [],
   "source": [
    "\n",
    "import cv2 \n",
    "import numpy as np\n",
    "from matplotlib import pyplot as plt\n",
    "from mpl_toolkits.mplot3d import Axes3D\n",
    "import random"
   ]
  },
  {
   "cell_type": "code",
   "execution_count": 20,
   "metadata": {},
   "outputs": [],
   "source": [
    "##  BIG MICH\n",
    "\n",
    "img = cv2.imread('leaves.jpg')\n",
    "\n",
    "cv2.imshow(\"image Leaves \", img)\n",
    "\n",
    "imgHSV= cv2.cvtColor(img, cv2.COLOR_BGR2HSV)\n",
    "imgHue = imgHSV[:, :, 0]\n",
    "imgSat = imgHSV[:, :, 1]\n",
    "imgVal= imgHSV[:, :, 2]\n",
    "\n",
    "cv2.imshow('HSV Image', imgHSV)\n",
    "cv2.imshow('Hue Channel', imgHue )\n",
    "cv2.imshow('Saturation Channel', imgSat)\n",
    "cv2.imshow('Value Channel', imgVal)"
   ]
  },
  {
   "cell_type": "markdown",
   "metadata": {},
   "source": [
    "we gotta convert that to subplots\n"
   ]
  },
  {
   "cell_type": "markdown",
   "metadata": {},
   "source": [
    "With the image read and converted to HSV format, the next step is to apply a mask of threshold values. "
   ]
  },
  {
   "cell_type": "code",
   "execution_count": null,
   "metadata": {},
   "outputs": [],
   "source": []
  },
  {
   "cell_type": "code",
   "execution_count": 21,
   "metadata": {},
   "outputs": [],
   "source": [
    "#waits for user to press a key\n",
    "cv2.waitKey(0)\n",
    "cv2.destroyAllWindows()"
   ]
  },
  {
   "cell_type": "markdown",
   "metadata": {},
   "source": []
  }
 ],
 "metadata": {
  "kernelspec": {
   "display_name": "Python 3 (ipykernel)",
   "language": "python",
   "name": "python3"
  },
  "language_info": {
   "codemirror_mode": {
    "name": "ipython",
    "version": 3
   },
   "file_extension": ".py",
   "mimetype": "text/x-python",
   "name": "python",
   "nbconvert_exporter": "python",
   "pygments_lexer": "ipython3",
   "version": "3.8.10"
  }
 },
 "nbformat": 4,
 "nbformat_minor": 2
}
